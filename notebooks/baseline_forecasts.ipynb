{
 "cells": [
  {
   "cell_type": "markdown",
   "id": "MJUe",
   "metadata": {
    "marimo": {
     "config": {
      "hide_code": true
     }
    }
   },
   "source": [
    "# Effortless Accuracy: Unlocking the Power of Baseline Forecasts"
   ]
  },
  {
   "cell_type": "markdown",
   "id": "vblA",
   "metadata": {
    "marimo": {
     "config": {
      "hide_code": true
     }
    }
   },
   "source": [
    "### Required Packages"
   ]
  },
  {
   "cell_type": "code",
   "execution_count": null,
   "id": "bkHC",
   "metadata": {},
   "outputs": [],
   "source": [
    "import os\n",
    "\n",
    "import pandas as pd\n",
    "from statsforecast import StatsForecast\n",
    "from statsforecast.models import (\n",
    "    HistoricAverage,\n",
    "    Naive,\n",
    "    SeasonalNaive,\n",
    "    WindowAverage,\n",
    ")\n",
    "from utilsforecast.evaluation import evaluate\n",
    "from utilsforecast.losses import rmse\n",
    "\n",
    "os.environ[\"NIXTLA_ID_AS_COL\"] = \"1\""
   ]
  },
  {
   "cell_type": "markdown",
   "id": "lEQa",
   "metadata": {
    "marimo": {
     "config": {
      "hide_code": true
     }
    }
   },
   "source": [
    "### Getting the data\n",
    "Tourism data (from the R-tsibble package), but with only 3 regions included."
   ]
  },
  {
   "cell_type": "code",
   "execution_count": null,
   "id": "PKri",
   "metadata": {},
   "outputs": [],
   "source": [
    "df = pd.read_csv(\"data/tourism.csv\")\n",
    "df[\"ds\"] = pd.PeriodIndex(df[\"ds\"], freq=\"Q\").to_timestamp()\n",
    "df"
   ]
  },
  {
   "cell_type": "markdown",
   "id": "Xref",
   "metadata": {
    "marimo": {
     "config": {
      "hide_code": true
     }
    }
   },
   "source": [
    "### Splitting data into test and train"
   ]
  },
  {
   "cell_type": "code",
   "execution_count": null,
   "id": "SFPL",
   "metadata": {},
   "outputs": [],
   "source": [
    "test_df = df.groupby(\"unique_id\", group_keys=False).tail(4)\n",
    "train_df = df[~df.index.isin(test_df.index)]"
   ]
  },
  {
   "cell_type": "markdown",
   "id": "BYtC",
   "metadata": {
    "marimo": {
     "config": {
      "hide_code": true
     }
    }
   },
   "source": [
    "### Setting up the baseline models and training them on the train data."
   ]
  },
  {
   "cell_type": "code",
   "execution_count": null,
   "id": "RGSE",
   "metadata": {},
   "outputs": [],
   "source": [
    "# Define forecast horizon\n",
    "h = 4\n",
    "\n",
    "models = [\n",
    "    HistoricAverage(),\n",
    "    Naive(),\n",
    "    SeasonalNaive(season_length = 4), # Quarterly data seasonality = 4\n",
    "    WindowAverage(window_size=4)\n",
    "]\n",
    "\n",
    "sf = StatsForecast(\n",
    "    models=models,\n",
    "    freq=\"QS\",\n",
    ")\n",
    "\n",
    "sf.fit(train_df)"
   ]
  },
  {
   "cell_type": "markdown",
   "id": "Kclp",
   "metadata": {
    "marimo": {
     "config": {
      "hide_code": true
     }
    }
   },
   "source": [
    "### Predicting for each of the model"
   ]
  },
  {
   "cell_type": "code",
   "execution_count": null,
   "id": "emfo",
   "metadata": {},
   "outputs": [],
   "source": [
    "pred_df = sf.predict(h=h)"
   ]
  },
  {
   "cell_type": "code",
   "execution_count": null,
   "id": "Hstk",
   "metadata": {},
   "outputs": [],
   "source": [
    "sf.plot(df, pred_df)"
   ]
  },
  {
   "cell_type": "markdown",
   "id": "nWHF",
   "metadata": {
    "marimo": {
     "config": {
      "hide_code": true
     }
    }
   },
   "source": [
    "### Evaluate the models"
   ]
  },
  {
   "cell_type": "code",
   "execution_count": null,
   "id": "iLit",
   "metadata": {},
   "outputs": [],
   "source": [
    "accuracy_df =  pd.merge(test_df, pred_df, how = \"left\", on = [\"unique_id\", \"ds\"])\n",
    "evaluate(accuracy_df, metrics=[rmse])"
   ]
  }
 ],
 "metadata": {
  "language_info": {
   "name": "python"
  }
 },
 "nbformat": 4,
 "nbformat_minor": 5
}
