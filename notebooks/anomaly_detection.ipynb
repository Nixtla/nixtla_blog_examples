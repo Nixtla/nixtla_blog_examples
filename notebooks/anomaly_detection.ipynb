{
 "cells": [
  {
   "cell_type": "code",
   "execution_count": null,
   "id": "bkHC",
   "metadata": {},
   "outputs": [],
   "source": [
    "import os\n",
    "\n",
    "import pandas as pd\n",
    "from nixtla import NixtlaClient"
   ]
  },
  {
   "cell_type": "markdown",
   "id": "yglgcxc5ph",
   "source": "# Anomaly detection",
   "metadata": {}
  },
  {
   "cell_type": "markdown",
   "id": "9qqaqf8etv",
   "source": "## Import packages",
   "metadata": {}
  },
  {
   "cell_type": "markdown",
   "id": "83l6e6ddp25",
   "source": "Import required libraries for data manipulation and Nixtla client initialization.",
   "metadata": {}
  },
  {
   "cell_type": "code",
   "execution_count": null,
   "id": "PKri",
   "metadata": {},
   "outputs": [],
   "source": [
    "NIXTLA_API_KEY = os.environ[\"NIXTLA_API_KEY\"]\n",
    "nixtla_client = NixtlaClient(api_key=NIXTLA_API_KEY)"
   ]
  },
  {
   "cell_type": "markdown",
   "id": "217mvvw7dwk",
   "source": "Initialize Nixtla client with API key from environment variables.",
   "metadata": {}
  },
  {
   "cell_type": "markdown",
   "id": "ygkqm07s0y",
   "source": "## Load dataset\n\nNow, let's load the dataset for this tutorial.",
   "metadata": {}
  },
  {
   "cell_type": "code",
   "execution_count": null,
   "id": "BYtC",
   "metadata": {},
   "outputs": [],
   "source": [
    "# Read the dataset\n",
    "wikipedia = pd.read_csv(\"https://datasets-nixtla.s3.amazonaws.com/peyton-manning.csv\", parse_dates=[\"ds\"])\n",
    "wikipedia.head(10)"
   ]
  },
  {
   "cell_type": "markdown",
   "id": "ovzg3ctuk1",
   "source": "Load the Peyton Manning Wikipedia page views dataset and display first 10 rows.",
   "metadata": {}
  },
  {
   "cell_type": "code",
   "execution_count": null,
   "id": "Kclp",
   "metadata": {},
   "outputs": [],
   "source": [
    "wikipedia_plot = nixtla_client.plot(wikipedia)\n",
    "wikipedia_plot"
   ]
  },
  {
   "cell_type": "markdown",
   "id": "wdfr762f5og",
   "source": "Plot the time series data to visualize the patterns.",
   "metadata": {}
  },
  {
   "cell_type": "code",
   "execution_count": null,
   "id": "nWHF",
   "metadata": {},
   "outputs": [],
   "source": [
    "anomalies_df = nixtla_client.detect_anomalies(\n",
    "    wikipedia,\n",
    "    freq=\"D\",\n",
    "    model=\"timegpt-1\",\n",
    ")\n",
    "anomalies_df.head()"
   ]
  },
  {
   "cell_type": "markdown",
   "id": "l1qtcqk2vph",
   "source": "## Anomaly detection",
   "metadata": {}
  },
  {
   "cell_type": "markdown",
   "id": "agrofx6akqt",
   "source": "Detect anomalies in the time series using TimeGPT model with default settings.",
   "metadata": {}
  },
  {
   "cell_type": "code",
   "execution_count": null,
   "id": "ZHCJ",
   "metadata": {},
   "outputs": [],
   "source": [
    "anomaly_plot = nixtla_client.plot(wikipedia, anomalies_df)\n",
    "anomaly_plot"
   ]
  },
  {
   "cell_type": "markdown",
   "id": "9rtmmilg1kh",
   "source": "Visualize the detected anomalies on the time series plot.",
   "metadata": {}
  },
  {
   "cell_type": "code",
   "execution_count": null,
   "id": "TqIu",
   "metadata": {},
   "outputs": [],
   "source": [
    "anomalies_df_exogenous = nixtla_client.detect_anomalies(\n",
    "    wikipedia,\n",
    "    freq=\"D\",\n",
    "    date_features=[\"month\", \"year\"],\n",
    "    date_features_to_one_hot=True,\n",
    "    model=\"timegpt-1\",\n",
    ")"
   ]
  },
  {
   "cell_type": "markdown",
   "id": "r3po947xjqo",
   "source": "## Anomaly detection with exogenous features",
   "metadata": {}
  },
  {
   "cell_type": "markdown",
   "id": "pesv40al4pd",
   "source": "Detect anomalies using TimeGPT with additional date-based features (month and year).",
   "metadata": {}
  },
  {
   "cell_type": "code",
   "execution_count": null,
   "id": "DnEU",
   "metadata": {},
   "outputs": [],
   "source": [
    "feature_plot = nixtla_client.weights_x.plot.barh(\n",
    "    x=\"features\",\n",
    "    y=\"weights\"\n",
    ")\n",
    "\n",
    "feature_plot"
   ]
  },
  {
   "cell_type": "markdown",
   "id": "2t6ju1wgvzk",
   "source": "Plot the feature importance weights to understand which features contribute most to anomaly detection.",
   "metadata": {}
  },
  {
   "cell_type": "code",
   "execution_count": null,
   "id": "ecfG",
   "metadata": {},
   "outputs": [],
   "source": [
    "# Without exogenous features\n",
    "print(\"Number of anomalies without exogenous features:\", anomalies_df.anomaly.sum())\n",
    "\n",
    "# With exogenous features\n",
    "print(\"Number of anomalies with exogenous features:\", anomalies_df_exogenous.anomaly.sum())"
   ]
  },
  {
   "cell_type": "markdown",
   "id": "xscsnpdmjgg",
   "source": "Compare the number of anomalies detected with and without exogenous features.",
   "metadata": {}
  },
  {
   "cell_type": "code",
   "execution_count": null,
   "id": "ZBYS",
   "metadata": {},
   "outputs": [],
   "source": [
    "anomalies_exogenous_plot = nixtla_client.plot(wikipedia, anomalies_df_exogenous)\n",
    "anomalies_exogenous_plot"
   ]
  },
  {
   "cell_type": "markdown",
   "id": "ieblqq7rhbd",
   "source": "Visualize the anomalies detected using the model with exogenous features.",
   "metadata": {}
  },
  {
   "cell_type": "code",
   "execution_count": null,
   "id": "aLJB",
   "metadata": {},
   "outputs": [],
   "source": [
    "anomalies_exogenous_plot.savefig(\"images/anomalies_exogenous_plot.svg\", format=\"svg\", bbox_inches=\"tight\")"
   ]
  },
  {
   "cell_type": "code",
   "execution_count": null,
   "id": "AjVT",
   "metadata": {},
   "outputs": [],
   "source": [
    "anomalies_df_70 = nixtla_client.detect_anomalies(wikipedia, freq=\"D\", level=70)"
   ]
  },
  {
   "cell_type": "markdown",
   "id": "my139ftyly",
   "source": "## Modifying the confidence intervals",
   "metadata": {}
  },
  {
   "cell_type": "markdown",
   "id": "xeuzmrlzjq",
   "source": "Detect anomalies using a lower confidence interval (70%) to see how it affects the results.",
   "metadata": {}
  },
  {
   "cell_type": "code",
   "execution_count": null,
   "id": "NCOB",
   "metadata": {},
   "outputs": [],
   "source": [
    "# Print and compare anomaly counts\n",
    "print(\"Number of anomalies with 99% confidence interval:\", anomalies_df.anomaly.sum())\n",
    "print(\"Number of anomalies with 70% confidence interval:\", anomalies_df_70.anomaly.sum())"
   ]
  },
  {
   "cell_type": "markdown",
   "id": "ubny7vjw3bp",
   "source": "Compare the number of anomalies detected with different confidence intervals (99% vs 70%).",
   "metadata": {}
  },
  {
   "cell_type": "code",
   "execution_count": null,
   "id": "TRpd",
   "metadata": {},
   "outputs": [],
   "source": [
    "anomalies_70_plot = nixtla_client.plot(wikipedia, anomalies_df_70)\n",
    "anomalies_70_plot"
   ]
  },
  {
   "cell_type": "markdown",
   "id": "evk0sauimba",
   "source": "Visualize the anomalies detected using the 70% confidence interval.",
   "metadata": {}
  },
  {
   "cell_type": "code",
   "execution_count": null,
   "id": "TXez",
   "metadata": {},
   "outputs": [],
   "source": [
    "anomalies_70_plot.savefig(\"images/anomalies_70_plot.svg\", format=\"svg\", bbox_inches=\"tight\")"
   ]
  }
 ],
 "metadata": {},
 "nbformat": 4,
 "nbformat_minor": 5
}